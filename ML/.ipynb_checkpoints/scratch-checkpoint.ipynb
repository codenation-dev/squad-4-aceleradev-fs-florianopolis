{
 "cells": [
  {
   "cell_type": "markdown",
   "metadata": {},
   "source": [
    "# Importing libraries"
   ]
  },
  {
   "cell_type": "code",
   "execution_count": 1,
   "metadata": {},
   "outputs": [],
   "source": [
    "import pandas as pd\n",
    "\n",
    "from sklearn.model_selection import train_test_split\n",
    "from sklearn.preprocessing import LabelBinarizer, Normalizer, LabelEncoder"
   ]
  },
  {
   "cell_type": "markdown",
   "metadata": {},
   "source": [
    "# Fetching data"
   ]
  },
  {
   "cell_type": "markdown",
   "metadata": {},
   "source": [
    "## Public agents' file"
   ]
  },
  {
   "cell_type": "code",
   "execution_count": 2,
   "metadata": {},
   "outputs": [
    {
     "data": {
      "text/html": [
       "<div>\n",
       "<style scoped>\n",
       "    .dataframe tbody tr th:only-of-type {\n",
       "        vertical-align: middle;\n",
       "    }\n",
       "\n",
       "    .dataframe tbody tr th {\n",
       "        vertical-align: top;\n",
       "    }\n",
       "\n",
       "    .dataframe thead th {\n",
       "        text-align: right;\n",
       "    }\n",
       "</style>\n",
       "<table border=\"1\" class=\"dataframe\">\n",
       "  <thead>\n",
       "    <tr style=\"text-align: right;\">\n",
       "      <th></th>\n",
       "      <th>NOME</th>\n",
       "      <th>CARGO</th>\n",
       "      <th>ORGÃO</th>\n",
       "      <th>REMUNERAÇÃO DO MÊS</th>\n",
       "      <th>FÉRIAS E 13º SALÁRIO</th>\n",
       "      <th>PAGAMENTOS EVENTUAIS</th>\n",
       "      <th>LICENÇA PRÊMIO INDENIZADA</th>\n",
       "      <th>ABONO PERMANÊNCIA &amp; OUTRAS INDENIZAÇÕES</th>\n",
       "      <th>REDUTOR SALARIAL</th>\n",
       "      <th>TOTAL LIQUÍDO (R$)</th>\n",
       "    </tr>\n",
       "  </thead>\n",
       "  <tbody>\n",
       "    <tr>\n",
       "      <th>0</th>\n",
       "      <td>AAIRON TELES DE CAMARGO</td>\n",
       "      <td>OFICIAL ADMINISTRATIVO</td>\n",
       "      <td>DEPTO. EST. TRANSITO DETRAN SP</td>\n",
       "      <td>2396.86</td>\n",
       "      <td>0.0</td>\n",
       "      <td>0.0</td>\n",
       "      <td>0.0</td>\n",
       "      <td>182.98</td>\n",
       "      <td>0.0</td>\n",
       "      <td>2221.67</td>\n",
       "    </tr>\n",
       "    <tr>\n",
       "      <th>1</th>\n",
       "      <td>AALAN DA SILVA ARAUJO</td>\n",
       "      <td>SD 1C PM</td>\n",
       "      <td>POLICIA MILITAR SAO PAULO</td>\n",
       "      <td>3497.00</td>\n",
       "      <td>0.0</td>\n",
       "      <td>0.0</td>\n",
       "      <td>0.0</td>\n",
       "      <td>742.84</td>\n",
       "      <td>0.0</td>\n",
       "      <td>2543.61</td>\n",
       "    </tr>\n",
       "    <tr>\n",
       "      <th>2</th>\n",
       "      <td>AARAN ESTEVAO LIMA BARBOSA</td>\n",
       "      <td>1TEN  PM</td>\n",
       "      <td>POLICIA MILITAR SAO PAULO</td>\n",
       "      <td>9431.06</td>\n",
       "      <td>0.0</td>\n",
       "      <td>0.0</td>\n",
       "      <td>0.0</td>\n",
       "      <td>504.07</td>\n",
       "      <td>0.0</td>\n",
       "      <td>7011.47</td>\n",
       "    </tr>\n",
       "    <tr>\n",
       "      <th>3</th>\n",
       "      <td>AARAO DE OLIVEIRA</td>\n",
       "      <td>MAJ   PM</td>\n",
       "      <td>SPPREV</td>\n",
       "      <td>14353.19</td>\n",
       "      <td>0.0</td>\n",
       "      <td>0.0</td>\n",
       "      <td>0.0</td>\n",
       "      <td>0.00</td>\n",
       "      <td>0.0</td>\n",
       "      <td>11084.72</td>\n",
       "    </tr>\n",
       "    <tr>\n",
       "      <th>4</th>\n",
       "      <td>AARON DE OLIVEIRA BARBOSA</td>\n",
       "      <td>AGENTE TECNICO ASSIST. A SAUDE</td>\n",
       "      <td>HOSP.CLIN.FAC.MED.USP-HCFMUSP</td>\n",
       "      <td>5253.07</td>\n",
       "      <td>0.0</td>\n",
       "      <td>0.0</td>\n",
       "      <td>0.0</td>\n",
       "      <td>0.00</td>\n",
       "      <td>0.0</td>\n",
       "      <td>4414.52</td>\n",
       "    </tr>\n",
       "  </tbody>\n",
       "</table>\n",
       "</div>"
      ],
      "text/plain": [
       "                         NOME                           CARGO  \\\n",
       "0     AAIRON TELES DE CAMARGO          OFICIAL ADMINISTRATIVO   \n",
       "1       AALAN DA SILVA ARAUJO                        SD 1C PM   \n",
       "2  AARAN ESTEVAO LIMA BARBOSA                        1TEN  PM   \n",
       "3           AARAO DE OLIVEIRA                        MAJ   PM   \n",
       "4   AARON DE OLIVEIRA BARBOSA  AGENTE TECNICO ASSIST. A SAUDE   \n",
       "\n",
       "                            ORGÃO  REMUNERAÇÃO DO MÊS  FÉRIAS E 13º SALÁRIO  \\\n",
       "0  DEPTO. EST. TRANSITO DETRAN SP             2396.86                   0.0   \n",
       "1       POLICIA MILITAR SAO PAULO             3497.00                   0.0   \n",
       "2       POLICIA MILITAR SAO PAULO             9431.06                   0.0   \n",
       "3                          SPPREV            14353.19                   0.0   \n",
       "4   HOSP.CLIN.FAC.MED.USP-HCFMUSP             5253.07                   0.0   \n",
       "\n",
       "   PAGAMENTOS EVENTUAIS  LICENÇA PRÊMIO INDENIZADA  \\\n",
       "0                   0.0                        0.0   \n",
       "1                   0.0                        0.0   \n",
       "2                   0.0                        0.0   \n",
       "3                   0.0                        0.0   \n",
       "4                   0.0                        0.0   \n",
       "\n",
       "   ABONO PERMANÊNCIA & OUTRAS INDENIZAÇÕES  REDUTOR SALARIAL  \\\n",
       "0                                   182.98               0.0   \n",
       "1                                   742.84               0.0   \n",
       "2                                   504.07               0.0   \n",
       "3                                     0.00               0.0   \n",
       "4                                     0.00               0.0   \n",
       "\n",
       "   TOTAL LIQUÍDO (R$)  \n",
       "0             2221.67  \n",
       "1             2543.61  \n",
       "2             7011.47  \n",
       "3            11084.72  \n",
       "4             4414.52  "
      ]
     },
     "execution_count": 2,
     "metadata": {},
     "output_type": "execute_result"
    }
   ],
   "source": [
    "path = '../cmd/data/cache/Remuneracao.txt'\n",
    "\n",
    "df = pd.read_csv(path, sep=';', encoding='latin1', decimal=',')\n",
    "df.head()"
   ]
  },
  {
   "cell_type": "code",
   "execution_count": 3,
   "metadata": {},
   "outputs": [
    {
     "name": "stdout",
     "output_type": "stream",
     "text": [
      "<class 'pandas.core.frame.DataFrame'>\n",
      "RangeIndex: 1077512 entries, 0 to 1077511\n",
      "Data columns (total 10 columns):\n",
      "NOME                                       1077512 non-null object\n",
      "CARGO                                      1077512 non-null object\n",
      "ORGÃO                                      1077512 non-null object\n",
      "REMUNERAÇÃO DO MÊS                         1077512 non-null float64\n",
      "FÉRIAS E 13º SALÁRIO                       1077512 non-null float64\n",
      "PAGAMENTOS EVENTUAIS                       1077512 non-null float64\n",
      "LICENÇA PRÊMIO INDENIZADA                  1077512 non-null float64\n",
      "ABONO PERMANÊNCIA & OUTRAS INDENIZAÇÕES    1077512 non-null float64\n",
      "REDUTOR SALARIAL                           1077512 non-null float64\n",
      "TOTAL LIQUÍDO (R$)                         1077512 non-null float64\n",
      "dtypes: float64(7), object(3)\n",
      "memory usage: 82.2+ MB\n"
     ]
    }
   ],
   "source": [
    "df.info()"
   ]
  },
  {
   "cell_type": "markdown",
   "metadata": {},
   "source": [
    "## Customer's list"
   ]
  },
  {
   "cell_type": "code",
   "execution_count": 4,
   "metadata": {},
   "outputs": [],
   "source": [
    "path_clientes = '../cmd/data/cache/clientes.csv'\n",
    "df_clientes = pd.read_csv(path_clientes, header=None)\n",
    "list_clientes = df_clientes[0].tolist()"
   ]
  },
  {
   "cell_type": "markdown",
   "metadata": {},
   "source": [
    "# Preprocessing"
   ]
  },
  {
   "cell_type": "markdown",
   "metadata": {},
   "source": [
    "## making target"
   ]
  },
  {
   "cell_type": "code",
   "execution_count": 5,
   "metadata": {},
   "outputs": [
    {
     "data": {
      "text/plain": [
       "195"
      ]
     },
     "execution_count": 5,
     "metadata": {},
     "output_type": "execute_result"
    }
   ],
   "source": [
    "df['is_customer'] = df.NOME.isin(list_clientes)\n",
    "df.is_customer.sum()"
   ]
  },
  {
   "cell_type": "markdown",
   "metadata": {},
   "source": [
    "## undersample"
   ]
  },
  {
   "cell_type": "code",
   "execution_count": 6,
   "metadata": {},
   "outputs": [],
   "source": [
    "train = df[df.is_customer == 0].sample(200)\n",
    "train = train.append(df[df.is_customer == 1])\n"
   ]
  },
  {
   "cell_type": "code",
   "execution_count": 7,
   "metadata": {},
   "outputs": [
    {
     "data": {
      "text/plain": [
       "False    200\n",
       "True     195\n",
       "Name: is_customer, dtype: int64"
      ]
     },
     "execution_count": 7,
     "metadata": {},
     "output_type": "execute_result"
    }
   ],
   "source": [
    "train.is_customer.value_counts()"
   ]
  },
  {
   "cell_type": "markdown",
   "metadata": {},
   "source": [
    "## Train test split"
   ]
  },
  {
   "cell_type": "code",
   "execution_count": 8,
   "metadata": {},
   "outputs": [],
   "source": [
    "X = train.drop(['is_customer', 'NOME'], axis=1)\n",
    "y = train.is_customer"
   ]
  },
  {
   "cell_type": "code",
   "execution_count": 9,
   "metadata": {},
   "outputs": [
    {
     "data": {
      "text/plain": [
       "CARGO                                      0\n",
       "ORGÃO                                      0\n",
       "REMUNERAÇÃO DO MÊS                         0\n",
       "FÉRIAS E 13º SALÁRIO                       0\n",
       "PAGAMENTOS EVENTUAIS                       0\n",
       "LICENÇA PRÊMIO INDENIZADA                  0\n",
       "ABONO PERMANÊNCIA & OUTRAS INDENIZAÇÕES    0\n",
       "REDUTOR SALARIAL                           0\n",
       "TOTAL LIQUÍDO (R$)                         0\n",
       "dtype: int64"
      ]
     },
     "execution_count": 9,
     "metadata": {},
     "output_type": "execute_result"
    }
   ],
   "source": [
    "pd.isna(X).sum()"
   ]
  },
  {
   "cell_type": "code",
   "execution_count": 10,
   "metadata": {},
   "outputs": [
    {
     "data": {
      "text/plain": [
       "0"
      ]
     },
     "execution_count": 10,
     "metadata": {},
     "output_type": "execute_result"
    }
   ],
   "source": [
    "pd.isna(y).sum()"
   ]
  },
  {
   "cell_type": "markdown",
   "metadata": {},
   "source": [
    "## Label encoding"
   ]
  },
  {
   "cell_type": "code",
   "execution_count": 11,
   "metadata": {},
   "outputs": [
    {
     "name": "stdout",
     "output_type": "stream",
     "text": [
      "<class 'pandas.core.frame.DataFrame'>\n",
      "Int64Index: 395 entries, 131335 to 1056458\n",
      "Data columns (total 9 columns):\n",
      "CARGO                                      395 non-null object\n",
      "ORGÃO                                      395 non-null object\n",
      "REMUNERAÇÃO DO MÊS                         395 non-null float64\n",
      "FÉRIAS E 13º SALÁRIO                       395 non-null float64\n",
      "PAGAMENTOS EVENTUAIS                       395 non-null float64\n",
      "LICENÇA PRÊMIO INDENIZADA                  395 non-null float64\n",
      "ABONO PERMANÊNCIA & OUTRAS INDENIZAÇÕES    395 non-null float64\n",
      "REDUTOR SALARIAL                           395 non-null float64\n",
      "TOTAL LIQUÍDO (R$)                         395 non-null float64\n",
      "dtypes: float64(7), object(2)\n",
      "memory usage: 30.9+ KB\n"
     ]
    }
   ],
   "source": [
    "lb = LabelBinarizer()\n",
    "lb.fit(y)\n",
    "y = lb.transform(y)\n",
    "\n",
    "X.info()"
   ]
  },
  {
   "cell_type": "code",
   "execution_count": 12,
   "metadata": {},
   "outputs": [],
   "source": [
    "le = LabelEncoder()\n",
    "X.CARGO = le.fit_transform(X.CARGO)\n",
    "X['ORGÃO'] = le.fit_transform(X['ORGÃO'])"
   ]
  },
  {
   "cell_type": "code",
   "execution_count": 13,
   "metadata": {},
   "outputs": [],
   "source": [
    "# X = pd.get_dummies(X)"
   ]
  },
  {
   "cell_type": "markdown",
   "metadata": {},
   "source": [
    "## Normalize"
   ]
  },
  {
   "cell_type": "code",
   "execution_count": 14,
   "metadata": {},
   "outputs": [],
   "source": [
    "norm = Normalizer()\n",
    "X = norm.fit_transform(X)"
   ]
  },
  {
   "cell_type": "code",
   "execution_count": 15,
   "metadata": {},
   "outputs": [],
   "source": [
    "X_train, X_test, y_train, y_test = train_test_split(X, y, stratify=y)"
   ]
  },
  {
   "cell_type": "markdown",
   "metadata": {},
   "source": [
    "# Model"
   ]
  },
  {
   "cell_type": "code",
   "execution_count": 16,
   "metadata": {},
   "outputs": [],
   "source": [
    "from xgboost import XGBClassifier"
   ]
  },
  {
   "cell_type": "code",
   "execution_count": 17,
   "metadata": {},
   "outputs": [
    {
     "name": "stdout",
     "output_type": "stream",
     "text": [
      "CPU times: user 6 µs, sys: 1 µs, total: 7 µs\n",
      "Wall time: 15 µs\n"
     ]
    },
    {
     "data": {
      "text/plain": [
       "XGBClassifier(base_score=0.5, booster='gbtree', colsample_bylevel=1,\n",
       "       colsample_bynode=1, colsample_bytree=1, gamma=0, learning_rate=0.1,\n",
       "       max_delta_step=0, max_depth=3, min_child_weight=1, missing=None,\n",
       "       n_estimators=100, n_jobs=1, nthread=None,\n",
       "       objective='binary:logistic', random_state=0, reg_alpha=0,\n",
       "       reg_lambda=1, scale_pos_weight=1, seed=None, silent=None,\n",
       "       subsample=1, verbosity=1)"
      ]
     },
     "execution_count": 17,
     "metadata": {},
     "output_type": "execute_result"
    }
   ],
   "source": [
    "%time\n",
    "xgb = XGBClassifier()\n",
    "xgb.fit(X_train, y_train.ravel())"
   ]
  },
  {
   "cell_type": "code",
   "execution_count": 18,
   "metadata": {},
   "outputs": [
    {
     "name": "stderr",
     "output_type": "stream",
     "text": [
      "/home/gui/anaconda3/lib/python3.6/site-packages/sklearn/preprocessing/label.py:151: DeprecationWarning: The truth value of an empty array is ambiguous. Returning False, but in future this will result in an error. Use `array.size > 0` to check that an array is not empty.\n",
      "  if diff:\n"
     ]
    }
   ],
   "source": [
    "y_pred = xgb.predict(X_test)"
   ]
  },
  {
   "cell_type": "markdown",
   "metadata": {},
   "source": [
    "# Accuracy"
   ]
  },
  {
   "cell_type": "code",
   "execution_count": 19,
   "metadata": {},
   "outputs": [],
   "source": [
    "from sklearn.metrics import accuracy_score"
   ]
  },
  {
   "cell_type": "code",
   "execution_count": 20,
   "metadata": {},
   "outputs": [
    {
     "data": {
      "text/plain": [
       "0.47474747474747475"
      ]
     },
     "execution_count": 20,
     "metadata": {},
     "output_type": "execute_result"
    }
   ],
   "source": [
    "accuracy_score(y_test, y_pred)"
   ]
  },
  {
   "cell_type": "code",
   "execution_count": null,
   "metadata": {},
   "outputs": [],
   "source": []
  },
  {
   "cell_type": "code",
   "execution_count": 21,
   "metadata": {},
   "outputs": [],
   "source": [
    "y_proba = xgb.predict_proba(X_test)"
   ]
  },
  {
   "cell_type": "code",
   "execution_count": 22,
   "metadata": {},
   "outputs": [],
   "source": [
    "import matplotlib.pyplot as plt\n"
   ]
  },
  {
   "cell_type": "code",
   "execution_count": 23,
   "metadata": {},
   "outputs": [
    {
     "data": {
      "text/html": [
       "<div>\n",
       "<style scoped>\n",
       "    .dataframe tbody tr th:only-of-type {\n",
       "        vertical-align: middle;\n",
       "    }\n",
       "\n",
       "    .dataframe tbody tr th {\n",
       "        vertical-align: top;\n",
       "    }\n",
       "\n",
       "    .dataframe thead th {\n",
       "        text-align: right;\n",
       "    }\n",
       "</style>\n",
       "<table border=\"1\" class=\"dataframe\">\n",
       "  <thead>\n",
       "    <tr style=\"text-align: right;\">\n",
       "      <th></th>\n",
       "      <th>0</th>\n",
       "      <th>1</th>\n",
       "    </tr>\n",
       "  </thead>\n",
       "  <tbody>\n",
       "    <tr>\n",
       "      <th>0</th>\n",
       "      <td>0.439333</td>\n",
       "      <td>0.560667</td>\n",
       "    </tr>\n",
       "    <tr>\n",
       "      <th>1</th>\n",
       "      <td>0.658463</td>\n",
       "      <td>0.341537</td>\n",
       "    </tr>\n",
       "    <tr>\n",
       "      <th>2</th>\n",
       "      <td>0.655154</td>\n",
       "      <td>0.344846</td>\n",
       "    </tr>\n",
       "    <tr>\n",
       "      <th>3</th>\n",
       "      <td>0.412402</td>\n",
       "      <td>0.587598</td>\n",
       "    </tr>\n",
       "    <tr>\n",
       "      <th>4</th>\n",
       "      <td>0.681006</td>\n",
       "      <td>0.318994</td>\n",
       "    </tr>\n",
       "  </tbody>\n",
       "</table>\n",
       "</div>"
      ],
      "text/plain": [
       "          0         1\n",
       "0  0.439333  0.560667\n",
       "1  0.658463  0.341537\n",
       "2  0.655154  0.344846\n",
       "3  0.412402  0.587598\n",
       "4  0.681006  0.318994"
      ]
     },
     "execution_count": 23,
     "metadata": {},
     "output_type": "execute_result"
    }
   ],
   "source": [
    "df_proba = pd.DataFrame(y_proba)\n",
    "df_proba.head()"
   ]
  },
  {
   "cell_type": "code",
   "execution_count": 24,
   "metadata": {},
   "outputs": [
    {
     "data": {
      "text/plain": [
       "<matplotlib.axes._subplots.AxesSubplot at 0x7f3725b4a6d8>"
      ]
     },
     "execution_count": 24,
     "metadata": {},
     "output_type": "execute_result"
    },
    {
     "data": {
      "image/png": "[encoded data removed]",
      "text/plain": [
       "<Figure size 432x288 with 1 Axes>"
      ]
     },
     "metadata": {},
     "output_type": "display_data"
    }
   ],
   "source": [
    "df_proba[0].plot(kind='hist')"
   ]
  },
  {
   "cell_type": "code",
   "execution_count": null,
   "metadata": {},
   "outputs": [],
   "source": []
  }
 ],
 "metadata": {
  "kernelspec": {
   "display_name": "Python 3",
   "language": "python",
   "name": "python3"
  },
  "language_info": {
   "codemirror_mode": {
    "name": "ipython",
    "version": 3
   },
   "file_extension": ".py",
   "mimetype": "text/x-python",
   "name": "python",
   "nbconvert_exporter": "python",
   "pygments_lexer": "ipython3",
   "version": "3.6.5"
  }
 },
 "nbformat": 4,
 "nbformat_minor": 2
}
